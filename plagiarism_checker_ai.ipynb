{
 "cells": [
  {
   "cell_type": "code",
   "execution_count": null,
   "metadata": {},
   "outputs": [],
   "source": []
  },
  {
   "cell_type": "code",
   "execution_count": 7,
   "metadata": {
    "executionInfo": {
     "elapsed": 41,
     "status": "ok",
     "timestamp": 1742539460806,
     "user": {
      "displayName": "Nitish Kumar",
      "userId": "14624002477248316564"
     },
     "user_tz": -330
    },
    "id": "cJpogFsbvQ3f"
   },
   "outputs": [],
   "source": [
    "import os\n",
    "import numpy as np\n",
    "import pandas as pd\n",
    "import re\n",
    "import string\n",
    "import matplotlib.pyplot as plt\n",
    "from sklearn.model_selection import train_test_split\n",
    "from sklearn.feature_extraction.text import TfidfVectorizer\n",
    "from sklearn.linear_model import LogisticRegression\n",
    "from sklearn.metrics import accuracy_score, classification_report, precision_recall_fscore_support\n",
    "from google.colab import drive\n",
    "from collections import Counter"
   ]
  },
  {
   "cell_type": "code",
   "execution_count": 8,
   "metadata": {
    "colab": {
     "base_uri": "https://localhost:8080/"
    },
    "executionInfo": {
     "elapsed": 5006,
     "status": "ok",
     "timestamp": 1742539467331,
     "user": {
      "displayName": "Nitish Kumar",
      "userId": "14624002477248316564"
     },
     "user_tz": -330
    },
    "id": "oqZ1CnNcwjx7",
    "outputId": "7814841f-d605-429d-818e-74b1e3358155"
   },
   "outputs": [
    {
     "name": "stdout",
     "output_type": "stream",
     "text": [
      "Drive already mounted at /content/drive; to attempt to forcibly remount, call drive.mount(\"/content/drive\", force_remount=True).\n"
     ]
    }
   ],
   "source": [
    "drive.mount('/content/drive')\n",
    "\n",
    "dataset_path = \"/content/drive/MyDrive/train_data/train.txt\""
   ]
  },
  {
   "cell_type": "code",
   "execution_count": 9,
   "metadata": {
    "executionInfo": {
     "elapsed": 4291,
     "status": "ok",
     "timestamp": 1742539471625,
     "user": {
      "displayName": "Nitish Kumar",
      "userId": "14624002477248316564"
     },
     "user_tz": -330
    },
    "id": "4cCtPGKJNp8t"
   },
   "outputs": [],
   "source": [
    "# Load the dataset\n",
    "def load_data(dataset_path):\n",
    "    data = []\n",
    "    labels = []\n",
    "\n",
    "    with open(dataset_path, \"r\", encoding=\"utf-8\") as file:\n",
    "        for line in file:\n",
    "            parts = line.strip().split(\"\\t\")\n",
    "            if len(parts) == 3:\n",
    "                sentence1, sentence2, label = parts\n",
    "                data.append(sentence1 + \" \" + sentence2)\n",
    "                labels.append(int(label))\n",
    "\n",
    "    return data, labels\n",
    "\n",
    "# Text preprocessing\n",
    "def preprocess_text(text):\n",
    "    text = text.lower()\n",
    "    text = re.sub(f\"[{string.punctuation}]\", \"\", text)  # Remove punctuation\n",
    "    text = re.sub(\"\\\\d+\", \"\", text)  # Remove numbers\n",
    "    text = re.sub(\"\\\\s+\", \" \", text).strip()  # Remove extra spaces\n",
    "    return text\n",
    "\n",
    "# Load and preprocess data\n",
    "texts, labels = load_data(dataset_path)\n",
    "texts = [preprocess_text(text) for text in texts]"
   ]
  },
  {
   "cell_type": "code",
   "execution_count": 10,
   "metadata": {
    "colab": {
     "base_uri": "https://localhost:8080/"
    },
    "executionInfo": {
     "elapsed": 12,
     "status": "ok",
     "timestamp": 1742539471659,
     "user": {
      "displayName": "Nitish Kumar",
      "userId": "14624002477248316564"
     },
     "user_tz": -330
    },
    "id": "5nCRaNE2wnOd",
    "outputId": "63c35f4a-7bb2-4299-eb84-e64159ee4926"
   },
   "outputs": [
    {
     "name": "stdout",
     "output_type": "stream",
     "text": [
      "Class distribution: Counter({0: 183966, 1: 183407})\n"
     ]
    }
   ],
   "source": [
    "#  Check the class distribution\n",
    "label_counts = Counter(labels)\n",
    "print(f\"Class distribution: {label_counts}\")"
   ]
  },
  {
   "cell_type": "code",
   "execution_count": 11,
   "metadata": {
    "colab": {
     "base_uri": "https://localhost:8080/",
     "height": 889
    },
    "executionInfo": {
     "elapsed": 14168,
     "status": "ok",
     "timestamp": 1742539485830,
     "user": {
      "displayName": "Nitish Kumar",
      "userId": "14624002477248316564"
     },
     "user_tz": -330
    },
    "id": "clqg8Ra_ws8M",
    "outputId": "431c3abd-5e41-4442-950f-ed0379006832"
   },
   "outputs": [
    {
     "name": "stderr",
     "output_type": "stream",
     "text": [
      "/usr/local/lib/python3.11/dist-packages/sklearn/linear_model/_logistic.py:465: ConvergenceWarning: lbfgs failed to converge (status=1):\n",
      "STOP: TOTAL NO. of ITERATIONS REACHED LIMIT.\n",
      "\n",
      "Increase the number of iterations (max_iter) or scale the data as shown in:\n",
      "    https://scikit-learn.org/stable/modules/preprocessing.html\n",
      "Please also refer to the documentation for alternative solver options:\n",
      "    https://scikit-learn.org/stable/modules/linear_model.html#logistic-regression\n",
      "  n_iter_i = _check_optimize_result(\n"
     ]
    },
    {
     "name": "stdout",
     "output_type": "stream",
     "text": [
      "Training Accuracy: 0.7265\n",
      "Testing Accuracy: 0.7052\n",
      "Precision: 0.7058, Recall: 0.7052, F1-score: 0.7050\n",
      "Classification Report:\n",
      "              precision    recall  f1-score   support\n",
      "\n",
      "           0       0.72      0.68      0.70     36795\n",
      "           1       0.69      0.73      0.71     36680\n",
      "\n",
      "    accuracy                           0.71     73475\n",
      "   macro avg       0.71      0.71      0.71     73475\n",
      "weighted avg       0.71      0.71      0.70     73475\n",
      "\n"
     ]
    },
    {
     "data": {
      "image/png": "[encoded data removed]",
      "text/plain": [
       "<Figure size 1000x500 with 2 Axes>"
      ]
     },
     "metadata": {},
     "output_type": "display_data"
    },
    {
     "name": "stdout",
     "output_type": "stream",
     "text": [
      "Result: Paraphrased\n"
     ]
    }
   ],
   "source": [
    "# At least two classes exist\n",
    "if len(label_counts) < 2:\n",
    "    print(\"Error: Dataset contains only one class. Model training skipped.\")\n",
    "else:\n",
    "    # Split dataset for training\n",
    "    X_train, X_test, y_train, y_test = train_test_split(texts, labels, test_size=0.2, random_state=42)\n",
    "\n",
    "    # Extraction of feature\n",
    "    vectorizer = TfidfVectorizer()\n",
    "    X_train_tfidf = vectorizer.fit_transform(X_train)\n",
    "    X_test_tfidf = vectorizer.transform(X_test)\n",
    "\n",
    "    # Training simple linear model i.e., Logistic Regression\n",
    "    model = LogisticRegression()\n",
    "    history = model.fit(X_train_tfidf, y_train)\n",
    "\n",
    "    # Evaluate of model\n",
    "    y_pred = model.predict(X_test_tfidf)\n",
    "    train_accuracy = model.score(X_train_tfidf, y_train)\n",
    "    test_accuracy = accuracy_score(y_test, y_pred)\n",
    "\n",
    "    # precision, recall, f1-score\n",
    "    precision, recall, f1, _ = precision_recall_fscore_support(y_test, y_pred, average='weighted')\n",
    "\n",
    "    print(f\"Training Accuracy: {train_accuracy:.4f}\")\n",
    "    print(f\"Testing Accuracy: {test_accuracy:.4f}\")\n",
    "    print(f\"Precision: {precision:.4f}, Recall: {recall:.4f}, F1-score: {f1:.4f}\")\n",
    "    print(\"Classification Report:\")\n",
    "    print(classification_report(y_test, y_pred))\n",
    "\n",
    "    # graph accuracy vs precision-recall\n",
    "    plt.figure(figsize=(10, 5))\n",
    "\n",
    "    plt.subplot(1, 2, 1)\n",
    "    plt.bar([\"Training Accuracy\", \"Testing Accuracy\"], [train_accuracy, test_accuracy], color=['blue', 'green'], width=0.4)\n",
    "    plt.ylim(0, 1)\n",
    "    plt.ylabel(\"Accuracy\")\n",
    "    plt.title(\"Training vs Testing Accuracy\")\n",
    "\n",
    "    plt.subplot(1, 2, 2)\n",
    "    plt.bar([\"Precision\", \"Recall\", \"F1-score\"], [precision, recall, f1], color=['orange', 'red', 'purple'], width=0.4)\n",
    "    plt.ylim(0, 1)\n",
    "    plt.ylabel(\"Score\")\n",
    "    plt.title(\"Precision, Recall, and F1-score\")\n",
    "\n",
    "    plt.tight_layout()\n",
    "    plt.show()\n",
    "\n",
    "    # Working demo\n",
    "    def check_plagiarism(sentence1, sentence2):\n",
    "        text = preprocess_text(sentence1 + \" \" + sentence2)\n",
    "        text_tfidf = vectorizer.transform([text])\n",
    "        prediction = model.predict(text_tfidf)[0]\n",
    "        return \"Paraphrased\" if prediction == 1 else \"Not Paraphrased\"\n",
    "\n",
    "    # Example\n",
    "    test_sentence1 = \"A person on a horse jumps over a broken down airplane.\"\n",
    "    test_sentence2 = \"A person is outdoors, on a horse.\"\n",
    "    print(f\"Result: {check_plagiarism(test_sentence1, test_sentence2)}\")"
   ]
  }
 ],
 "metadata": {
  "accelerator": "GPU",
  "colab": {
   "authorship_tag": "ABX9TyM2phNvhtUB1fVvGa35k9dx",
   "gpuType": "T4",
   "provenance": []
  },
  "kernelspec": {
   "display_name": "Python 3",
   "name": "python3"
  },
  "language_info": {
   "name": "python"
  }
 },
 "nbformat": 4,
 "nbformat_minor": 0
}
